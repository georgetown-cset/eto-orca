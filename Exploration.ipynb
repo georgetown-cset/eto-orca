{
 "cells": [
  {
   "cell_type": "markdown",
   "metadata": {},
   "source": [
    "### Exploration:\n",
    "\n",
    "Objective: Focus on trying to extract the employer from a list of `PushEvent` (Github commits). Script doesn't need to deal with deduplication.\n",
    "\n",
    "Iterative process:\n",
    "\n",
    "Input: a json (pandas row) of type Github PushEvent, where the relevant column is \"payload\"\n",
    "\n",
    "Output: employer match, or None if not found\n",
    "\n",
    "Deduplication at the end."
   ]
  },
  {
   "cell_type": "code",
   "execution_count": 39,
   "metadata": {},
   "outputs": [],
   "source": [
    "import pandas as pd\n",
    "import json\n",
    "import re\n",
    "from github import Github\n",
    "import os\n",
    "import pprint\n",
    "pp = pprint.PrettyPrinter()\n"
   ]
  },
  {
   "cell_type": "code",
   "execution_count": 5,
   "metadata": {
    "scrolled": true
   },
   "outputs": [],
   "source": [
    "# df = pd.read_gbq(\"\"\"SELECT * FROM `gcp-cset-projects.cset_intern_jms727.light_archive`\"\"\") # gcp-cset-projects\n",
    "# df.to_hdf(\"light_archive.hdf\", key=\"a\", index=False)\n",
    "df = pd.read_hdf(\"light_archive.hdf\", key=\"a\")"
   ]
  },
  {
   "cell_type": "code",
   "execution_count": 6,
   "metadata": {},
   "outputs": [],
   "source": [
    "# df[\"type\"].value_counts()\n",
    "pushEvent = df.loc[df[\"type\"] == \"PushEvent\"]\n",
    "pushEvent = pushEvent.drop_duplicates(subset=[\"other\"])\n",
    "# payload = pushEvent[\"payload\"]"
   ]
  },
  {
   "cell_type": "code",
   "execution_count": 22,
   "metadata": {},
   "outputs": [
    {
     "data": {
      "text/plain": [
       "'rsanheim'"
      ]
     },
     "execution_count": 22,
     "metadata": {},
     "output_type": "execute_result"
    }
   ],
   "source": [
    "pushEvent[\"actor\"].iloc[0][\"login\"]"
   ]
  },
  {
   "cell_type": "code",
   "execution_count": 7,
   "metadata": {},
   "outputs": [
    {
     "data": {
      "text/plain": [
       "{'push_id': 8999348580,\n",
       " 'size': 1,\n",
       " 'distinct_size': 1,\n",
       " 'ref': 'refs/heads/master',\n",
       " 'head': 'c93a79f403ac9669d971a089354b362d5a861df7',\n",
       " 'before': '8f7c02e681316c711b6ddd68392f084e4b8d539d',\n",
       " 'commits': [{'sha': 'c93a79f403ac9669d971a089354b362d5a861df7',\n",
       "   'author': {'email': 'd272b771ac5801e6f4a8185e9669dd091ae19b71@gmail.com',\n",
       "    'name': 'Rob Sanheim'},\n",
       "   'message': \"BD help contact - take two (#3348)\\n\\n* Added Shamim's contact for HELP in BD\\r\\n\\r\\n* Added CSS for Bangladesh help button\\r\\n\\r\\n* Fix the help link\\r\\n\\r\\n* Add properly encoded URL for BD whatsapp support link\\r\\n\\r\\nCo-authored-by: Daniel Burka <danielburka@gmail.com>\\r\\nCo-authored-by: Tim Cheadle <tcheadle@resolvetosavelives.org>\\r\\nCo-authored-by: Hari Mohanraj <hari.mohanraj89@gmail.com>\",\n",
       "   'distinct': True,\n",
       "   'url': 'https://api.github.com/repos/simpledotorg/simple-server/commits/c93a79f403ac9669d971a089354b362d5a861df7'}]}"
      ]
     },
     "execution_count": 7,
     "metadata": {},
     "output_type": "execute_result"
    }
   ],
   "source": [
    "test = pushEvent[\"payload\"].iloc[0]\n",
    "jsp = json.loads(test)\n",
    "jsp"
   ]
  },
  {
   "cell_type": "code",
   "execution_count": 8,
   "metadata": {},
   "outputs": [
    {
     "data": {
      "text/plain": [
       "['d272b771ac5801e6f4a8185e9669dd091ae19b71@gmail.com',\n",
       " 'danielburka@gmail.com',\n",
       " 'tcheadle@resolvetosavelives.org',\n",
       " 'hari.mohanraj89@gmail.com']"
      ]
     },
     "execution_count": 8,
     "metadata": {},
     "output_type": "execute_result"
    }
   ],
   "source": [
    "# attempt to find email addresses in pre-json string\n",
    "re.findall(\"([a-zA-Z0-9+._-]+@[a-zA-Z0-9._-]+\\.[a-zA-Z0-9_-]+)\", test)"
   ]
  },
  {
   "cell_type": "code",
   "execution_count": 18,
   "metadata": {},
   "outputs": [],
   "source": [
    "# Instantiate Github API\n",
    "g = Github(os.environ[\"GITHUB_ACCESS_KEY\"])\n"
   ]
  },
  {
   "cell_type": "code",
   "execution_count": 25,
   "metadata": {},
   "outputs": [],
   "source": [
    "# Now ping the GitHub API for the user\n",
    "username = pushEvent[\"actor\"].iloc[0][\"login\"]\n",
    "firstuser = g.get_user(username)\n"
   ]
  },
  {
   "cell_type": "code",
   "execution_count": 32,
   "metadata": {},
   "outputs": [
    {
     "data": {
      "text/plain": [
       "{'login': 'rsanheim',\n",
       " 'id': 69,\n",
       " 'node_id': 'MDQ6VXNlcjY5',\n",
       " 'avatar_url': 'https://avatars.githubusercontent.com/u/69?v=4',\n",
       " 'gravatar_id': '',\n",
       " 'url': 'https://api.github.com/users/rsanheim',\n",
       " 'html_url': 'https://github.com/rsanheim',\n",
       " 'followers_url': 'https://api.github.com/users/rsanheim/followers',\n",
       " 'following_url': 'https://api.github.com/users/rsanheim/following{/other_user}',\n",
       " 'gists_url': 'https://api.github.com/users/rsanheim/gists{/gist_id}',\n",
       " 'starred_url': 'https://api.github.com/users/rsanheim/starred{/owner}{/repo}',\n",
       " 'subscriptions_url': 'https://api.github.com/users/rsanheim/subscriptions',\n",
       " 'organizations_url': 'https://api.github.com/users/rsanheim/orgs',\n",
       " 'repos_url': 'https://api.github.com/users/rsanheim/repos',\n",
       " 'events_url': 'https://api.github.com/users/rsanheim/events{/privacy}',\n",
       " 'received_events_url': 'https://api.github.com/users/rsanheim/received_events',\n",
       " 'type': 'User',\n",
       " 'site_admin': False,\n",
       " 'name': 'Rob Sanheim',\n",
       " 'company': 'Simple.org',\n",
       " 'blog': 'https://rsanheim.com',\n",
       " 'location': 'Madison, WI, NORTH AMERICA',\n",
       " 'email': None,\n",
       " 'hireable': None,\n",
       " 'bio': 'Lead engineer @ Simple.org; formerly @ GitHub, Cognitect, and others. Human centered software development.',\n",
       " 'twitter_username': 'rsanheim',\n",
       " 'public_repos': 39,\n",
       " 'public_gists': 43,\n",
       " 'followers': 180,\n",
       " 'following': 28,\n",
       " 'created_at': '2008-01-27T07:09:47Z',\n",
       " 'updated_at': '2021-12-31T02:03:27Z'}"
      ]
     },
     "execution_count": 32,
     "metadata": {},
     "output_type": "execute_result"
    }
   ],
   "source": [
    "firstuser.raw_data"
   ]
  },
  {
   "cell_type": "code",
   "execution_count": 42,
   "metadata": {
    "scrolled": true
   },
   "outputs": [
    {
     "name": "stdout",
     "output_type": "stream",
     "text": [
      "Lead engineer @ Simple.org; formerly @ GitHub, Cognitect, and others. Human centered software development.\n",
      "Simple.org\n",
      "Madison, WI, NORTH AMERICA\n",
      "https://rsanheim.com\n",
      "{'avatar_url': 'https://avatars.githubusercontent.com/u/69?v=4',\n",
      " 'bio': 'Lead engineer @ Simple.org; formerly @ GitHub, Cognitect, and others. '\n",
      "        'Human centered software development.',\n",
      " 'blog': 'https://rsanheim.com',\n",
      " 'company': 'Simple.org',\n",
      " 'created_at': '2008-01-27T07:09:47Z',\n",
      " 'email': None,\n",
      " 'events_url': 'https://api.github.com/users/rsanheim/events{/privacy}',\n",
      " 'followers': 180,\n",
      " 'followers_url': 'https://api.github.com/users/rsanheim/followers',\n",
      " 'following': 28,\n",
      " 'following_url': 'https://api.github.com/users/rsanheim/following{/other_user}',\n",
      " 'gists_url': 'https://api.github.com/users/rsanheim/gists{/gist_id}',\n",
      " 'gravatar_id': '',\n",
      " 'hireable': None,\n",
      " 'html_url': 'https://github.com/rsanheim',\n",
      " 'id': 69,\n",
      " 'location': 'Madison, WI, NORTH AMERICA',\n",
      " 'login': 'rsanheim',\n",
      " 'name': 'Rob Sanheim',\n",
      " 'node_id': 'MDQ6VXNlcjY5',\n",
      " 'organizations_url': 'https://api.github.com/users/rsanheim/orgs',\n",
      " 'public_gists': 43,\n",
      " 'public_repos': 39,\n",
      " 'received_events_url': 'https://api.github.com/users/rsanheim/received_events',\n",
      " 'repos_url': 'https://api.github.com/users/rsanheim/repos',\n",
      " 'site_admin': False,\n",
      " 'starred_url': 'https://api.github.com/users/rsanheim/starred{/owner}{/repo}',\n",
      " 'subscriptions_url': 'https://api.github.com/users/rsanheim/subscriptions',\n",
      " 'twitter_username': 'rsanheim',\n",
      " 'type': 'User',\n",
      " 'updated_at': '2021-12-31T02:03:27Z',\n",
      " 'url': 'https://api.github.com/users/rsanheim'}\n"
     ]
    },
    {
     "data": {
      "text/plain": [
       "['Simple.org;', 'GitHub,']"
      ]
     },
     "execution_count": 42,
     "metadata": {},
     "output_type": "execute_result"
    }
   ],
   "source": [
    "print(firstuser.bio)\n",
    "print(firstuser.company)\n",
    "print(firstuser.location)\n",
    "print(firstuser.blog)\n",
    "pp.pprint(firstuser.raw_data)\n",
    "re.findall(\"\\@\\s?(.*?)\\s\", firstuser.bio)"
   ]
  },
  {
   "cell_type": "code",
   "execution_count": null,
   "metadata": {},
   "outputs": [],
   "source": []
  },
  {
   "cell_type": "code",
   "execution_count": null,
   "metadata": {},
   "outputs": [],
   "source": []
  }
 ],
 "metadata": {
  "kernelspec": {
   "display_name": "Python 3",
   "language": "python",
   "name": "python3"
  },
  "language_info": {
   "codemirror_mode": {
    "name": "ipython",
    "version": 3
   },
   "file_extension": ".py",
   "mimetype": "text/x-python",
   "name": "python",
   "nbconvert_exporter": "python",
   "pygments_lexer": "ipython3",
   "version": "3.8.8"
  }
 },
 "nbformat": 4,
 "nbformat_minor": 2
}
