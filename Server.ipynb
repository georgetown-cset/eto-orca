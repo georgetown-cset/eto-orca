{
 "cells": [
  {
   "cell_type": "code",
   "execution_count": null,
   "metadata": {},
   "outputs": [],
   "source": [
    "import pandas as pd"
   ]
  },
  {
   "cell_type": "code",
   "execution_count": null,
   "metadata": {},
   "outputs": [],
   "source": [
    "df = pd.read_gbq(\"\"\"SELECT * FROM `gcp-cset-projects.cset_intern_jms727.visualization_data`\"\"\")\n",
    "#                 auth_local_webserver=True) # gcp-cset-projects\n",
    "df.to_hdf(\"light_archive.hdf\", key=\"v\", index=False)"
   ]
  },
  {
   "cell_type": "code",
   "execution_count": null,
   "metadata": {},
   "outputs": [],
   "source": [
    "df = pd.read_gbq(\"\"\"SELECT * FROM `gcp-cset-projects.cset_intern_jms727.paper_github_repos`\"\"\")\n",
    "#                 auth_local_webserver=True) # gcp-cset-projects\n",
    "df.to_hdf(\"light_archive.hdf\", key=\"p\", index=False)"
   ]
  },
  {
   "cell_type": "code",
   "execution_count": null,
   "metadata": {},
   "outputs": [],
   "source": [
    "# df = pd.read_gbq(\"\"\"SELECT * FROM `gcp-cset-projects.cset_intern_jms727.light_archive`\"\"\") # gcp-cset-projects\n",
    "# df.to_hdf(\"light_archive.hdf\", key=\"a\", index=False)\n",
    "df = pd.read_hdf(\"light_archive.hdf\", key=\"a\")"
   ]
  }
 ],
 "metadata": {
  "kernelspec": {
   "display_name": "Python 3",
   "language": "python",
   "name": "python3"
  },
  "language_info": {
   "codemirror_mode": {
    "name": "ipython",
    "version": 3
   },
   "file_extension": ".py",
   "mimetype": "text/x-python",
   "name": "python",
   "nbconvert_exporter": "python",
   "pygments_lexer": "ipython3",
   "version": "3.7.4"
  }
 },
 "nbformat": 4,
 "nbformat_minor": 2
}
